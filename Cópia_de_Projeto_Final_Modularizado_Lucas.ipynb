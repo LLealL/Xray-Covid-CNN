{
  "nbformat": 4,
  "nbformat_minor": 0,
  "metadata": {
    "accelerator": "GPU",
    "colab": {
      "name": "Cópia de Projeto Final Modularizado- Lucas.ipynb",
      "provenance": [],
      "collapsed_sections": [],
      "toc_visible": true,
      "include_colab_link": true
    },
    "kernelspec": {
      "display_name": "Python 3",
      "name": "python3"
    }
  },
  "cells": [
    {
      "cell_type": "markdown",
      "metadata": {
        "id": "view-in-github",
        "colab_type": "text"
      },
      "source": [
        "<a href=\"https://colab.research.google.com/github/LLealL/Xray-Covid-CNN/blob/main/C%C3%B3pia_de_Projeto_Final_Modularizado_Lucas.ipynb\" target=\"_parent\"><img src=\"https://colab.research.google.com/assets/colab-badge.svg\" alt=\"Open In Colab\"/></a>"
      ]
    },
    {
      "cell_type": "markdown",
      "metadata": {
        "id": "vOCir9IdGCEC"
      },
      "source": [
        "# **Importação de Bibliotecas**"
      ]
    },
    {
      "cell_type": "code",
      "metadata": {
        "id": "31bpTR5-GHM3"
      },
      "source": [
        "from PIL import Image\n",
        "import csv\n",
        "from os import listdir\n",
        "from os.path import isdir, isfile\n",
        "import numpy as np\n",
        "from sklearn.model_selection import train_test_split\n",
        "from sklearn.preprocessing import LabelBinarizer\n",
        "from tensorflow.keras.preprocessing.image import ImageDataGenerator\n",
        "from tensorflow.keras.applications import VGG19\n",
        "from tensorflow.keras.utils import to_categorical\n",
        "from tensorflow.keras import layers\n",
        "from tensorflow.keras import models\n",
        "from tensorflow.keras import optimizers\n",
        "from tensorflow.keras.layers import Conv2D, MaxPooling2D, Flatten, Dense, Activation, Dropout\n",
        "from tensorflow.keras.utils import plot_model\n",
        "from tensorflow.keras.callbacks import ModelCheckpoint, ReduceLROnPlateau, EarlyStopping\n",
        "import matplotlib.pyplot as plt\n",
        "from sklearn.metrics import confusion_matrix\n",
        "from mlxtend.plotting import plot_confusion_matrix\n",
        "from keras.models import load_model\n",
        "\n"
      ],
      "execution_count": null,
      "outputs": []
    },
    {
      "cell_type": "markdown",
      "metadata": {
        "id": "Vs6vW55_CeM7"
      },
      "source": [
        "#Configuração do Google Drive"
      ]
    },
    {
      "cell_type": "code",
      "metadata": {
        "colab": {
          "base_uri": "https://localhost:8080/"
        },
        "id": "mZ0UdM5jCHqf",
        "outputId": "4702e5c0-7b80-4818-d0ca-ec73ab29dff8"
      },
      "source": [
        "# Habilita o uso do Google Drive para acessar os arquivos\n",
        "from google.colab import drive\n",
        "drive.mount('/content/drive')\n",
        "\n",
        "drive_path = '/content/drive/Shared drives/projeto_rn/projeto'"
      ],
      "execution_count": null,
      "outputs": [
        {
          "output_type": "stream",
          "text": [
            "Mounted at /content/drive\n"
          ],
          "name": "stdout"
        }
      ]
    },
    {
      "cell_type": "markdown",
      "metadata": {
        "id": "0NXhx1vADVcP"
      },
      "source": [
        "#PreProcess"
      ]
    },
    {
      "cell_type": "code",
      "metadata": {
        "id": "39TnAZbzfwZ5"
      },
      "source": [
        "def getImagens(lista,imagens):\n",
        "  imagem_path = \"//content//drive//Shared drives//projeto_rn//projeto//imagens//dataset Treino//dataset Treino//\"\n",
        "  for imagem in lista:\n",
        "    img = Image.open(\"//content//drive//Shared drives//projeto_rn//projeto//imagens//dataset Treino//dataset Treino//\" + imagem)\n",
        "    img = img.convert('RGB')\n",
        "    img = img.resize((250,250))\n",
        "    imagens.append(np.asarray(img)/255)\n",
        "  imagens = np.array(imagens)\n",
        "  return imagens\n",
        "\n",
        "def PreProcess():\n",
        "  mycsv = '/content/drive/Shared drives/projeto_rn/projeto/labels_projeto_rna_csv.csv'\n",
        "  lista_de_imagens = []\n",
        "  lista_de_classes = []\n",
        "\n",
        "\n",
        "  print(\"Abrindo arquivo CSV: \", mycsv)\n",
        "  with open(mycsv,'r', encoding='UTF-8') as arquivo_csv:\n",
        "    arquivo_de_labels = csv.reader(arquivo_csv,delimiter=';')\n",
        "    for registro in arquivo_de_labels:\n",
        "      lista_de_imagens.append(registro[0])\n",
        "      lista_de_classes.append(registro[4])\n",
        "    lista_de_imagens.pop(0)\n",
        "    lista_de_classes.pop(0)\n",
        "  print(\"Lista de imagens e classes extraída!\")\n",
        "  \n",
        "  \n",
        "  imagem_path = \"//content//drive//Shared drives//projeto_rn//projeto//imagens//dataset Treino//dataset Treino//\"\n",
        "  labels = list()\n",
        "  imagens = list()\n",
        "  print(\"Carregando Imagens...\")\n",
        "  imagens = getImagens(lista_de_imagens,imagens)\n",
        "\n",
        "  imagens = np.array(imagens)\n",
        "  print(\"Binarizando Labels...\")\n",
        "  labels = np.array(lista_de_classes)\n",
        "  lb = LabelBinarizer()\n",
        "  labels = lb.fit_transform(labels)\n",
        "  labels = np.asarray(labels)\n",
        "\n",
        "  print(\"Separando conjunto de teste e treino...\")\n",
        "  (treinoImagem, valImagem, treinoLabel, valLabel) = train_test_split(imagens, \n",
        "                                                                      labels, \n",
        "                                                                      test_size=0.2, \n",
        "                                                                      stratify=labels,                                                                     \n",
        "                                                                      random_state=43)\n",
        "  print(\"PreProcessamento finalizado\")\n",
        "  return treinoImagem,valImagem,treinoLabel,valLabel\n"
      ],
      "execution_count": null,
      "outputs": []
    },
    {
      "cell_type": "markdown",
      "metadata": {
        "id": "sWBDet-LEBnk"
      },
      "source": [
        "# Definição da Arquitetura da Rede Neural \n"
      ]
    },
    {
      "cell_type": "code",
      "metadata": {
        "id": "c-VZ7tGioF2u"
      },
      "source": [
        "\n",
        "def compile_model():\n",
        "  model = models.Sequential()\n",
        "  model.add(Conv2D(32, (25,25),input_shape= (250,250,3), padding='same', activation='relu'))\n",
        "  model.add(Conv2D(32, (25,25), padding='same', activation='relu'))\n",
        "  model.add(MaxPooling2D(pool_size=(2,2)))\n",
        "\n",
        "  model.add(Conv2D(32, (3,3), padding='same',activation='relu'))\n",
        "  model.add(Conv2D(32, (3,3), padding='same',activation='relu'))\n",
        "  model.add(MaxPooling2D(pool_size=(2,2)))\n",
        "  \n",
        "  model.add(Conv2D(32, (3,3), padding='same',activation='relu'))\n",
        "  model.add(Conv2D(32, (3,3), padding='same',activation='relu'))\n",
        "  model.add(MaxPooling2D(pool_size=(2,2)))\n",
        "\n",
        "  model.add(Conv2D(32, (3,3), padding='same',activation='relu'))\n",
        "  model.add(Conv2D(32, (3,3), padding='same',activation='relu'))\n",
        "  model.add(MaxPooling2D(pool_size=(2,2)))\n",
        "\n",
        "  model.add(layers.BatchNormalization())\n",
        "  model.add(Flatten())\n",
        "  model.add(Dense(64))\n",
        "  model.add(Activation('relu'))\n",
        "  model.add(Dropout(0.25))\n",
        "  model.add(Dense(32))\n",
        "  model.add(Activation('relu'))\n",
        "  model.add(Dropout(0.25))\n",
        "  model.add(Dense(3))\n",
        "  model.add(Activation('softmax'))\n",
        "\n",
        "  model.compile(loss='categorical_crossentropy',\n",
        "                  optimizer='adam',\n",
        "                  metrics=['acc'])\n",
        "  print(\"Modelo Compilado...\")\n",
        "  return model\n"
      ],
      "execution_count": null,
      "outputs": []
    },
    {
      "cell_type": "markdown",
      "metadata": {
        "id": "P1hnTzUT7mos"
      },
      "source": [
        "#Data_Augment e Train_Model"
      ]
    },
    {
      "cell_type": "code",
      "metadata": {
        "id": "PzHs9B-t7llo"
      },
      "source": [
        "\n",
        "def data_augment(batch,trainX,trainY):\n",
        "  train_datagen = ImageDataGenerator(\n",
        "      rotation_range=20,\n",
        "      zoom_range=0.2)\n",
        "\n",
        "  train_datagen.fit(trainX)\n",
        "\n",
        "  data_aug = train_datagen.flow(trainX, trainY, batch_size=batch)\n",
        "  return data_aug\n",
        "\n",
        "def create_callbacks(alpha):\n",
        "  filepath=\"transferlearning_weights.hdf5\"\n",
        "  checkpoint = ModelCheckpoint(filepath, monitor='val_acc', verbose=1, save_best_only=True, mode='max')\n",
        "  lr_reduce = ReduceLROnPlateau(monitor='val_acc', factor=0.1, min_delta=alpha, patience=5, verbose=1)\n",
        "\n",
        "  callbacks = [checkpoint, lr_reduce]\n",
        "  return callbacks\n",
        "\n",
        "def train_Model(trainX,trainY,testX,testY,model):\n",
        "  batch_size   = 16\n",
        "  random_state = 42\n",
        "  alpha        = 1e-5\n",
        "  epoch        = 60\n",
        "\n",
        "  print(\"Criando Array de callbacks\")\n",
        "  callbacks = create_callbacks(alpha)\n",
        "  print(\"Criando data augmentator\")\n",
        "  data_aug = data_augment(batch_size,np.array(trainX),np.array(trainY))\n",
        "  print(\"Iniciando treino do Modelo...\")\n",
        "  history = model.fit(\n",
        "                              data_aug,\n",
        "                              steps_per_epoch=len(trainX)// batch_size, # parte inteira da divisão\n",
        "                              validation_data=(np.array(testX), np.array(testY)),\n",
        "                              validation_steps=len(testX) // batch_size,# parte inteira da divisão\n",
        "                              callbacks=callbacks,\n",
        "                              epochs=epoch)\n",
        "  return history, model\n"
      ],
      "execution_count": null,
      "outputs": []
    },
    {
      "cell_type": "markdown",
      "metadata": {
        "id": "ZTutiBR3sTb7"
      },
      "source": [
        "#EXECUTE_MODEL e saves/loads"
      ]
    },
    {
      "cell_type": "code",
      "metadata": {
        "id": "k9N5yn8LDYqQ"
      },
      "source": [
        "def ask():\n",
        "  yes = {'sim','s', 'si', ''}\n",
        "  no = {'nao','n'}\n",
        "\n",
        "  choice = input().lower()\n",
        "  if choice in yes:\n",
        "    return True\n",
        "  elif choice in no:\n",
        "    return False\n",
        "  else:\n",
        "    sys.stdout.write(\"Responda com 's' or 'n'\")\n",
        "\n",
        "def saveModel(model):\n",
        "  model.save(\"modeloJJLM.h5\") # modelo de João, Jone,Lucas e Messias kkk\n",
        "  print(\"Modelo salvo!\")\n",
        "\n",
        "def loadModel():\n",
        "  model = load_model('modeloJJLM.h5')\n",
        "  return model\n",
        "\n",
        "# Arquivo CSV da base\n",
        "def execute_Model():  \n",
        " \n",
        "  if isfile('modeloJJLM.h5'):\n",
        "    print(\"Deseja Carregar modelo salvo? s/n\")\n",
        "    if ask():\n",
        "      model = loadModel()\n",
        "      trainX,testX,trainY,testY = PreProcess()\n",
        "      evaluate_model(testX,testY,model)\n",
        "    else:\n",
        "      trainX,testX,trainY,testY = PreProcess()\n",
        "\n",
        "      modelo = compile_model()\n",
        "      print(\"Iniciando Modelo...\")\n",
        "      history,model = train_Model(trainX,trainY,testX,testY,modelo)\n",
        "      plotGraficos(history)\n",
        "      evaluate_model(testX,testY,model)\n",
        "\n",
        "      print(\"Deseja Salvar modelo? s/n\")\n",
        "      if ask():\n",
        "        saveModel(model)\n",
        "  else:\n",
        "    trainX,testX,trainY,testY = PreProcess()\n",
        "\n",
        "\n",
        "    modelo = compile_model()\n",
        "    print(\"Iniciando Modelo...\")\n",
        "    history,model = train_Model(trainX,trainY,testX,testY,modelo)\n",
        "    plotGraficos(history)\n",
        "    evaluate_model(testX,testY,model)\n",
        "\n",
        "    print(\"Deseja Salvar modelo? s/n\")\n",
        "    if ask():\n",
        "      saveModel(model)\n"
      ],
      "execution_count": null,
      "outputs": []
    },
    {
      "cell_type": "markdown",
      "metadata": {
        "id": "CdXFNsBtrw-b"
      },
      "source": [
        "#EVALUATE MODEL e PREDICT"
      ]
    },
    {
      "cell_type": "code",
      "metadata": {
        "id": "JJzmUwx6r1DP"
      },
      "source": [
        "\n",
        "def predict(imgPath,model):\n",
        "    img = Image.open(imgPath)\n",
        "    img = img.convert('RGB')\n",
        "    img = img.resize((250,250))\n",
        "    img = np.expand_dims(img, axis=0)\n",
        "    img = np.asarray(img)/255\n",
        "    pred = model.predict(img)\n",
        "    pred = np.argmax(pred,axis = 1) \n",
        "    if pred == 0:\n",
        "      print(\"COVID-19\")\n",
        "    if pred == 1:\n",
        "      print(\"PNEUMONIA\")\n",
        "    if pred == 2:\n",
        "      print(\"SAUDAVEL\")\n",
        "\n",
        "def plotGraficos(history):\n",
        "  print(\"plotando gráficos...\")\n",
        "  plt.plot(history.history['acc'])\n",
        "  plt.plot(history.history['val_acc'])\n",
        "  plt.title('model accuracy')\n",
        "  plt.ylabel('accuracy')\n",
        "  plt.xlabel('epoch')\n",
        "  plt.legend(['train', 'test'], loc='upper left')\n",
        "  plt.show()\n",
        "  # summarize history for loss\n",
        "  plt.plot(history.history['loss'])\n",
        "  plt.plot(history.history['val_loss'])\n",
        "  plt.title('model loss')\n",
        "  plt.ylabel('loss')\n",
        "  plt.xlabel('epoch')\n",
        "  plt.legend(['train', 'test'], loc='upper left')\n",
        "  plt.show()\n",
        "\n",
        "\n",
        "def evaluate_model(testX,testY,model):\n",
        "\n",
        "  print(\"Testando Modelo\")\n",
        "  pred = model.predict(testX)\n",
        "  pred = np.argmax(pred,axis = 1) \n",
        "  y_true = np.argmax(testY,axis = 1)\n",
        "\n",
        "  print(\"Plotando matriz de confusão\")\n",
        "  cm = confusion_matrix(y_true, pred)\n",
        "  total = sum(sum(cm))\n",
        "  acc = (cm[0, 0] + cm[1, 1] + cm[2, 2]) / total\n",
        "  sensitivity = cm[0, 0] / (cm[0, 0] + cm[0, 1]+ cm[0,2])\n",
        "  specificity = (cm[1, 1]+cm[2,2]) / (cm[1, 0] + cm[1, 1] + cm[1,2]+cm[2,0]+cm[2,1]+cm[2,2])\n",
        "\n",
        "  print(\"0-covid19 \\n1-Pneumonia \\n2-Saudavel\")\n",
        "  print(\"Acurácia: {:.4f}\".format(acc))\n",
        "  print(\"Sensitividade: {:.4f}\".format(sensitivity))\n",
        "  print(\"Especificidade: {:.4f}\".format(specificity))\n",
        "\n",
        "  fig, ax = plot_confusion_matrix(conf_mat=cm ,  figsize=(5, 5))\n",
        "  plt.show()\n",
        "\n"
      ],
      "execution_count": null,
      "outputs": []
    },
    {
      "cell_type": "markdown",
      "metadata": {
        "id": "PYMreXxt8wQw"
      },
      "source": [
        "#MAIN\n",
        "\n"
      ]
    },
    {
      "cell_type": "code",
      "metadata": {
        "colab": {
          "base_uri": "https://localhost:8080/",
          "height": 1000
        },
        "id": "wpyUCGKRvjdJ",
        "outputId": "4d19a3c1-afd9-438c-9308-0c9db6645b49"
      },
      "source": [
        "execute_Model()"
      ],
      "execution_count": null,
      "outputs": [
        {
          "output_type": "stream",
          "text": [
            "Abrindo arquivo CSV:  /content/drive/Shared drives/projeto_rn/projeto/labels_projeto_rna_csv.csv\n",
            "Lista de imagens e classes extraída!\n",
            "Carregando Imagens...\n",
            "Binarizando Labels...\n",
            "Separando conjunto de teste e treino...\n",
            "PreProcessamento finalizado\n",
            "Modelo Compilado...\n",
            "Iniciando Modelo...\n",
            "Criando Array de callbacks\n",
            "Criando data augmentator\n",
            "Iniciando treino do Modelo...\n",
            "Epoch 1/60\n",
            " 2/10 [=====>........................] - ETA: 2s - loss: 1.5059 - acc: 0.2188WARNING:tensorflow:Callbacks method `on_train_batch_end` is slow compared to the batch time (batch time: 0.1878s vs `on_train_batch_end` time: 0.5239s). Check your callbacks.\n",
            "10/10 [==============================] - ETA: 0s - loss: 1.0729 - acc: 0.5375\n",
            "Epoch 00001: val_acc improved from -inf to 0.20000, saving model to transferlearning_weights.hdf5\n",
            "10/10 [==============================] - 9s 857ms/step - loss: 1.0729 - acc: 0.5375 - val_loss: 22.1625 - val_acc: 0.2000\n",
            "Epoch 2/60\n",
            "10/10 [==============================] - ETA: 0s - loss: 1.0958 - acc: 0.6500\n",
            "Epoch 00002: val_acc did not improve from 0.20000\n",
            "10/10 [==============================] - 7s 673ms/step - loss: 1.0958 - acc: 0.6500 - val_loss: 15.5373 - val_acc: 0.2000\n",
            "Epoch 3/60\n",
            "10/10 [==============================] - ETA: 0s - loss: 0.9485 - acc: 0.6687\n",
            "Epoch 00003: val_acc did not improve from 0.20000\n",
            "10/10 [==============================] - 7s 684ms/step - loss: 0.9485 - acc: 0.6687 - val_loss: 28.4389 - val_acc: 0.2000\n",
            "Epoch 4/60\n",
            "10/10 [==============================] - ETA: 0s - loss: 0.6966 - acc: 0.7500\n",
            "Epoch 00004: val_acc improved from 0.20000 to 0.77500, saving model to transferlearning_weights.hdf5\n",
            "10/10 [==============================] - 7s 699ms/step - loss: 0.6966 - acc: 0.7500 - val_loss: 3.5417 - val_acc: 0.7750\n",
            "Epoch 5/60\n",
            "10/10 [==============================] - ETA: 0s - loss: 0.9891 - acc: 0.6250\n",
            "Epoch 00005: val_acc improved from 0.77500 to 0.82500, saving model to transferlearning_weights.hdf5\n",
            "10/10 [==============================] - 7s 710ms/step - loss: 0.9891 - acc: 0.6250 - val_loss: 1.5108 - val_acc: 0.8250\n",
            "Epoch 6/60\n",
            "10/10 [==============================] - ETA: 0s - loss: 0.6830 - acc: 0.7875\n",
            "Epoch 00006: val_acc did not improve from 0.82500\n",
            "10/10 [==============================] - 7s 714ms/step - loss: 0.6830 - acc: 0.7875 - val_loss: 4.6879 - val_acc: 0.6000\n",
            "Epoch 7/60\n",
            "10/10 [==============================] - ETA: 0s - loss: 0.7604 - acc: 0.6875\n",
            "Epoch 00007: val_acc did not improve from 0.82500\n",
            "10/10 [==============================] - 7s 729ms/step - loss: 0.7604 - acc: 0.6875 - val_loss: 4.3317 - val_acc: 0.7250\n",
            "Epoch 8/60\n",
            "10/10 [==============================] - ETA: 0s - loss: 0.6044 - acc: 0.7875\n",
            "Epoch 00008: val_acc did not improve from 0.82500\n",
            "10/10 [==============================] - 7s 732ms/step - loss: 0.6044 - acc: 0.7875 - val_loss: 6.2495 - val_acc: 0.7750\n",
            "Epoch 9/60\n",
            "10/10 [==============================] - ETA: 0s - loss: 0.6750 - acc: 0.7688\n",
            "Epoch 00009: val_acc did not improve from 0.82500\n",
            "10/10 [==============================] - 7s 721ms/step - loss: 0.6750 - acc: 0.7688 - val_loss: 2.0076 - val_acc: 0.7250\n",
            "Epoch 10/60\n",
            "10/10 [==============================] - ETA: 0s - loss: 0.6586 - acc: 0.7375\n",
            "Epoch 00010: val_acc did not improve from 0.82500\n",
            "\n",
            "Epoch 00010: ReduceLROnPlateau reducing learning rate to 0.00010000000474974513.\n",
            "10/10 [==============================] - 7s 711ms/step - loss: 0.6586 - acc: 0.7375 - val_loss: 1.7991 - val_acc: 0.8000\n",
            "Epoch 11/60\n",
            "10/10 [==============================] - ETA: 0s - loss: 0.4842 - acc: 0.8188\n",
            "Epoch 00011: val_acc did not improve from 0.82500\n",
            "10/10 [==============================] - 7s 706ms/step - loss: 0.4842 - acc: 0.8188 - val_loss: 1.4802 - val_acc: 0.8000\n",
            "Epoch 12/60\n",
            "10/10 [==============================] - ETA: 0s - loss: 0.5402 - acc: 0.8000\n",
            "Epoch 00012: val_acc did not improve from 0.82500\n",
            "10/10 [==============================] - 7s 703ms/step - loss: 0.5402 - acc: 0.8000 - val_loss: 1.1748 - val_acc: 0.8250\n",
            "Epoch 13/60\n",
            "10/10 [==============================] - ETA: 0s - loss: 0.4381 - acc: 0.8250\n",
            "Epoch 00013: val_acc improved from 0.82500 to 0.87500, saving model to transferlearning_weights.hdf5\n",
            "10/10 [==============================] - 7s 706ms/step - loss: 0.4381 - acc: 0.8250 - val_loss: 1.0435 - val_acc: 0.8750\n",
            "Epoch 14/60\n",
            "10/10 [==============================] - ETA: 0s - loss: 0.4956 - acc: 0.8188\n",
            "Epoch 00014: val_acc did not improve from 0.87500\n",
            "10/10 [==============================] - 7s 698ms/step - loss: 0.4956 - acc: 0.8188 - val_loss: 0.9117 - val_acc: 0.8750\n",
            "Epoch 15/60\n",
            "10/10 [==============================] - ETA: 0s - loss: 0.4307 - acc: 0.7875\n",
            "Epoch 00015: val_acc did not improve from 0.87500\n",
            "10/10 [==============================] - 7s 702ms/step - loss: 0.4307 - acc: 0.7875 - val_loss: 0.8332 - val_acc: 0.8500\n",
            "Epoch 16/60\n",
            "10/10 [==============================] - ETA: 0s - loss: 0.4610 - acc: 0.8313\n",
            "Epoch 00016: val_acc did not improve from 0.87500\n",
            "10/10 [==============================] - 7s 707ms/step - loss: 0.4610 - acc: 0.8313 - val_loss: 0.7833 - val_acc: 0.8250\n",
            "Epoch 17/60\n",
            "10/10 [==============================] - ETA: 0s - loss: 0.4678 - acc: 0.8313\n",
            "Epoch 00017: val_acc did not improve from 0.87500\n",
            "10/10 [==============================] - 7s 708ms/step - loss: 0.4678 - acc: 0.8313 - val_loss: 0.7646 - val_acc: 0.8250\n",
            "Epoch 18/60\n",
            "10/10 [==============================] - ETA: 0s - loss: 0.4586 - acc: 0.8375\n",
            "Epoch 00018: val_acc did not improve from 0.87500\n",
            "\n",
            "Epoch 00018: ReduceLROnPlateau reducing learning rate to 1.0000000474974514e-05.\n",
            "10/10 [==============================] - 7s 709ms/step - loss: 0.4586 - acc: 0.8375 - val_loss: 0.7346 - val_acc: 0.8250\n",
            "Epoch 19/60\n",
            "10/10 [==============================] - ETA: 0s - loss: 0.4280 - acc: 0.8750\n",
            "Epoch 00019: val_acc did not improve from 0.87500\n",
            "10/10 [==============================] - 7s 710ms/step - loss: 0.4280 - acc: 0.8750 - val_loss: 0.7184 - val_acc: 0.8250\n",
            "Epoch 20/60\n",
            "10/10 [==============================] - ETA: 0s - loss: 0.4896 - acc: 0.8188\n",
            "Epoch 00020: val_acc did not improve from 0.87500\n",
            "10/10 [==============================] - 7s 709ms/step - loss: 0.4896 - acc: 0.8188 - val_loss: 0.7067 - val_acc: 0.8250\n",
            "Epoch 21/60\n",
            "10/10 [==============================] - ETA: 0s - loss: 0.4869 - acc: 0.8250\n",
            "Epoch 00021: val_acc did not improve from 0.87500\n",
            "10/10 [==============================] - 7s 708ms/step - loss: 0.4869 - acc: 0.8250 - val_loss: 0.6964 - val_acc: 0.8250\n",
            "Epoch 22/60\n",
            "10/10 [==============================] - ETA: 0s - loss: 0.4107 - acc: 0.8438\n",
            "Epoch 00022: val_acc did not improve from 0.87500\n",
            "10/10 [==============================] - 7s 708ms/step - loss: 0.4107 - acc: 0.8438 - val_loss: 0.6876 - val_acc: 0.8250\n",
            "Epoch 23/60\n",
            "10/10 [==============================] - ETA: 0s - loss: 0.3892 - acc: 0.9000\n",
            "Epoch 00023: val_acc did not improve from 0.87500\n",
            "\n",
            "Epoch 00023: ReduceLROnPlateau reducing learning rate to 1.0000000656873453e-06.\n",
            "10/10 [==============================] - 7s 707ms/step - loss: 0.3892 - acc: 0.9000 - val_loss: 0.6737 - val_acc: 0.8500\n",
            "Epoch 24/60\n",
            "10/10 [==============================] - ETA: 0s - loss: 0.4810 - acc: 0.7937\n",
            "Epoch 00024: val_acc did not improve from 0.87500\n",
            "10/10 [==============================] - 7s 705ms/step - loss: 0.4810 - acc: 0.7937 - val_loss: 0.6679 - val_acc: 0.8500\n",
            "Epoch 25/60\n",
            "10/10 [==============================] - ETA: 0s - loss: 0.4755 - acc: 0.8125\n",
            "Epoch 00025: val_acc did not improve from 0.87500\n",
            "10/10 [==============================] - 7s 705ms/step - loss: 0.4755 - acc: 0.8125 - val_loss: 0.6645 - val_acc: 0.8500\n",
            "Epoch 26/60\n",
            "10/10 [==============================] - ETA: 0s - loss: 0.4515 - acc: 0.8188\n",
            "Epoch 00026: val_acc did not improve from 0.87500\n",
            "10/10 [==============================] - 7s 706ms/step - loss: 0.4515 - acc: 0.8188 - val_loss: 0.6608 - val_acc: 0.8500\n",
            "Epoch 27/60\n",
            "10/10 [==============================] - ETA: 0s - loss: 0.5393 - acc: 0.7688\n",
            "Epoch 00027: val_acc did not improve from 0.87500\n",
            "10/10 [==============================] - 7s 704ms/step - loss: 0.5393 - acc: 0.7688 - val_loss: 0.6595 - val_acc: 0.8250\n",
            "Epoch 28/60\n",
            "10/10 [==============================] - ETA: 0s - loss: 0.4646 - acc: 0.8813\n",
            "Epoch 00028: val_acc did not improve from 0.87500\n",
            "\n",
            "Epoch 00028: ReduceLROnPlateau reducing learning rate to 1.0000001111620805e-07.\n",
            "10/10 [==============================] - 7s 707ms/step - loss: 0.4646 - acc: 0.8813 - val_loss: 0.6594 - val_acc: 0.8250\n",
            "Epoch 29/60\n",
            "10/10 [==============================] - ETA: 0s - loss: 0.3344 - acc: 0.8500\n",
            "Epoch 00029: val_acc did not improve from 0.87500\n",
            "10/10 [==============================] - 7s 704ms/step - loss: 0.3344 - acc: 0.8500 - val_loss: 0.6601 - val_acc: 0.8250\n",
            "Epoch 30/60\n",
            "10/10 [==============================] - ETA: 0s - loss: 0.4342 - acc: 0.8313\n",
            "Epoch 00030: val_acc did not improve from 0.87500\n",
            "10/10 [==============================] - 7s 707ms/step - loss: 0.4342 - acc: 0.8313 - val_loss: 0.6604 - val_acc: 0.8250\n",
            "Epoch 31/60\n",
            "10/10 [==============================] - ETA: 0s - loss: 0.4389 - acc: 0.8125\n",
            "Epoch 00031: val_acc did not improve from 0.87500\n",
            "10/10 [==============================] - 7s 705ms/step - loss: 0.4389 - acc: 0.8125 - val_loss: 0.6613 - val_acc: 0.8250\n",
            "Epoch 32/60\n",
            "10/10 [==============================] - ETA: 0s - loss: 0.4612 - acc: 0.8250\n",
            "Epoch 00032: val_acc did not improve from 0.87500\n",
            "10/10 [==============================] - 7s 709ms/step - loss: 0.4612 - acc: 0.8250 - val_loss: 0.6620 - val_acc: 0.8250\n",
            "Epoch 33/60\n",
            "10/10 [==============================] - ETA: 0s - loss: 0.4611 - acc: 0.8375\n",
            "Epoch 00033: val_acc did not improve from 0.87500\n",
            "\n",
            "Epoch 00033: ReduceLROnPlateau reducing learning rate to 1.000000082740371e-08.\n",
            "10/10 [==============================] - 7s 710ms/step - loss: 0.4611 - acc: 0.8375 - val_loss: 0.6623 - val_acc: 0.8250\n",
            "Epoch 34/60\n",
            "10/10 [==============================] - ETA: 0s - loss: 0.4378 - acc: 0.8687\n",
            "Epoch 00034: val_acc did not improve from 0.87500\n",
            "10/10 [==============================] - 7s 709ms/step - loss: 0.4378 - acc: 0.8687 - val_loss: 0.6628 - val_acc: 0.8250\n",
            "Epoch 35/60\n",
            "10/10 [==============================] - ETA: 0s - loss: 0.3934 - acc: 0.8188\n",
            "Epoch 00035: val_acc did not improve from 0.87500\n",
            "10/10 [==============================] - 7s 708ms/step - loss: 0.3934 - acc: 0.8188 - val_loss: 0.6624 - val_acc: 0.8250\n",
            "Epoch 36/60\n",
            "10/10 [==============================] - ETA: 0s - loss: 0.4777 - acc: 0.8062\n",
            "Epoch 00036: val_acc did not improve from 0.87500\n",
            "10/10 [==============================] - 7s 710ms/step - loss: 0.4777 - acc: 0.8062 - val_loss: 0.6623 - val_acc: 0.8250\n",
            "Epoch 37/60\n",
            "10/10 [==============================] - ETA: 0s - loss: 0.4666 - acc: 0.8188\n",
            "Epoch 00037: val_acc did not improve from 0.87500\n",
            "10/10 [==============================] - 7s 709ms/step - loss: 0.4666 - acc: 0.8188 - val_loss: 0.6631 - val_acc: 0.8250\n",
            "Epoch 38/60\n",
            "10/10 [==============================] - ETA: 0s - loss: 0.4818 - acc: 0.7750\n",
            "Epoch 00038: val_acc did not improve from 0.87500\n",
            "\n",
            "Epoch 00038: ReduceLROnPlateau reducing learning rate to 1.000000082740371e-09.\n",
            "10/10 [==============================] - 7s 708ms/step - loss: 0.4818 - acc: 0.7750 - val_loss: 0.6633 - val_acc: 0.8250\n",
            "Epoch 39/60\n",
            "10/10 [==============================] - ETA: 0s - loss: 0.3155 - acc: 0.8562\n",
            "Epoch 00039: val_acc did not improve from 0.87500\n",
            "10/10 [==============================] - 7s 709ms/step - loss: 0.3155 - acc: 0.8562 - val_loss: 0.6637 - val_acc: 0.8250\n",
            "Epoch 40/60\n",
            "10/10 [==============================] - ETA: 0s - loss: 0.3982 - acc: 0.8313\n",
            "Epoch 00040: val_acc did not improve from 0.87500\n",
            "10/10 [==============================] - 7s 710ms/step - loss: 0.3982 - acc: 0.8313 - val_loss: 0.6636 - val_acc: 0.8250\n",
            "Epoch 41/60\n",
            "10/10 [==============================] - ETA: 0s - loss: 0.4223 - acc: 0.8188\n",
            "Epoch 00041: val_acc did not improve from 0.87500\n",
            "10/10 [==============================] - 7s 710ms/step - loss: 0.4223 - acc: 0.8188 - val_loss: 0.6643 - val_acc: 0.8250\n",
            "Epoch 42/60\n",
            "10/10 [==============================] - ETA: 0s - loss: 0.3262 - acc: 0.8687\n",
            "Epoch 00042: val_acc did not improve from 0.87500\n",
            "10/10 [==============================] - 7s 708ms/step - loss: 0.3262 - acc: 0.8687 - val_loss: 0.6646 - val_acc: 0.8250\n",
            "Epoch 43/60\n",
            "10/10 [==============================] - ETA: 0s - loss: 0.3910 - acc: 0.8625\n",
            "Epoch 00043: val_acc did not improve from 0.87500\n",
            "\n",
            "Epoch 00043: ReduceLROnPlateau reducing learning rate to 1.000000082740371e-10.\n",
            "10/10 [==============================] - 7s 709ms/step - loss: 0.3910 - acc: 0.8625 - val_loss: 0.6649 - val_acc: 0.8250\n",
            "Epoch 44/60\n",
            "10/10 [==============================] - ETA: 0s - loss: 0.4709 - acc: 0.8125\n",
            "Epoch 00044: val_acc did not improve from 0.87500\n",
            "10/10 [==============================] - 7s 708ms/step - loss: 0.4709 - acc: 0.8125 - val_loss: 0.6657 - val_acc: 0.8250\n",
            "Epoch 45/60\n",
            "10/10 [==============================] - ETA: 0s - loss: 0.4410 - acc: 0.8562\n",
            "Epoch 00045: val_acc did not improve from 0.87500\n",
            "10/10 [==============================] - 7s 709ms/step - loss: 0.4410 - acc: 0.8562 - val_loss: 0.6657 - val_acc: 0.8250\n",
            "Epoch 46/60\n",
            "10/10 [==============================] - ETA: 0s - loss: 0.4322 - acc: 0.8062\n",
            "Epoch 00046: val_acc did not improve from 0.87500\n",
            "10/10 [==============================] - 7s 708ms/step - loss: 0.4322 - acc: 0.8062 - val_loss: 0.6664 - val_acc: 0.8250\n",
            "Epoch 47/60\n",
            "10/10 [==============================] - ETA: 0s - loss: 0.3722 - acc: 0.8687\n",
            "Epoch 00047: val_acc did not improve from 0.87500\n",
            "10/10 [==============================] - 7s 709ms/step - loss: 0.3722 - acc: 0.8687 - val_loss: 0.6668 - val_acc: 0.8250\n",
            "Epoch 48/60\n",
            "10/10 [==============================] - ETA: 0s - loss: 0.4955 - acc: 0.8250\n",
            "Epoch 00048: val_acc did not improve from 0.87500\n",
            "\n",
            "Epoch 00048: ReduceLROnPlateau reducing learning rate to 1.000000082740371e-11.\n",
            "10/10 [==============================] - 7s 710ms/step - loss: 0.4955 - acc: 0.8250 - val_loss: 0.6670 - val_acc: 0.8250\n",
            "Epoch 49/60\n",
            "10/10 [==============================] - ETA: 0s - loss: 0.4639 - acc: 0.8438\n",
            "Epoch 00049: val_acc did not improve from 0.87500\n",
            "10/10 [==============================] - 7s 710ms/step - loss: 0.4639 - acc: 0.8438 - val_loss: 0.6670 - val_acc: 0.8250\n",
            "Epoch 50/60\n",
            "10/10 [==============================] - ETA: 0s - loss: 0.5178 - acc: 0.7937\n",
            "Epoch 00050: val_acc did not improve from 0.87500\n",
            "10/10 [==============================] - 7s 709ms/step - loss: 0.5178 - acc: 0.7937 - val_loss: 0.6672 - val_acc: 0.8250\n",
            "Epoch 51/60\n",
            "10/10 [==============================] - ETA: 0s - loss: 0.4927 - acc: 0.8125\n",
            "Epoch 00051: val_acc did not improve from 0.87500\n",
            "10/10 [==============================] - 7s 709ms/step - loss: 0.4927 - acc: 0.8125 - val_loss: 0.6671 - val_acc: 0.8250\n",
            "Epoch 52/60\n",
            "10/10 [==============================] - ETA: 0s - loss: 0.4011 - acc: 0.8625\n",
            "Epoch 00052: val_acc did not improve from 0.87500\n",
            "10/10 [==============================] - 7s 708ms/step - loss: 0.4011 - acc: 0.8625 - val_loss: 0.6676 - val_acc: 0.8250\n",
            "Epoch 53/60\n",
            "10/10 [==============================] - ETA: 0s - loss: 0.3509 - acc: 0.8687\n",
            "Epoch 00053: val_acc did not improve from 0.87500\n",
            "\n",
            "Epoch 00053: ReduceLROnPlateau reducing learning rate to 1.000000082740371e-12.\n",
            "10/10 [==============================] - 7s 707ms/step - loss: 0.3509 - acc: 0.8687 - val_loss: 0.6676 - val_acc: 0.8250\n",
            "Epoch 54/60\n",
            "10/10 [==============================] - ETA: 0s - loss: 0.4547 - acc: 0.8062\n",
            "Epoch 00054: val_acc did not improve from 0.87500\n",
            "10/10 [==============================] - 7s 708ms/step - loss: 0.4547 - acc: 0.8062 - val_loss: 0.6676 - val_acc: 0.8250\n",
            "Epoch 55/60\n",
            "10/10 [==============================] - ETA: 0s - loss: 0.4271 - acc: 0.8438\n",
            "Epoch 00055: val_acc did not improve from 0.87500\n",
            "10/10 [==============================] - 7s 704ms/step - loss: 0.4271 - acc: 0.8438 - val_loss: 0.6677 - val_acc: 0.8250\n",
            "Epoch 56/60\n",
            "10/10 [==============================] - ETA: 0s - loss: 0.4904 - acc: 0.7937\n",
            "Epoch 00056: val_acc did not improve from 0.87500\n",
            "10/10 [==============================] - 7s 705ms/step - loss: 0.4904 - acc: 0.7937 - val_loss: 0.6676 - val_acc: 0.8250\n",
            "Epoch 57/60\n",
            "10/10 [==============================] - ETA: 0s - loss: 0.4176 - acc: 0.8438\n",
            "Epoch 00057: val_acc did not improve from 0.87500\n",
            "10/10 [==============================] - 7s 705ms/step - loss: 0.4176 - acc: 0.8438 - val_loss: 0.6681 - val_acc: 0.8250\n",
            "Epoch 58/60\n",
            "10/10 [==============================] - ETA: 0s - loss: 0.4584 - acc: 0.8438\n",
            "Epoch 00058: val_acc did not improve from 0.87500\n",
            "\n",
            "Epoch 00058: ReduceLROnPlateau reducing learning rate to 1.0000001044244145e-13.\n",
            "10/10 [==============================] - 7s 706ms/step - loss: 0.4584 - acc: 0.8438 - val_loss: 0.6681 - val_acc: 0.8250\n",
            "Epoch 59/60\n",
            "10/10 [==============================] - ETA: 0s - loss: 0.3941 - acc: 0.8313\n",
            "Epoch 00059: val_acc did not improve from 0.87500\n",
            "10/10 [==============================] - 7s 707ms/step - loss: 0.3941 - acc: 0.8313 - val_loss: 0.6679 - val_acc: 0.8250\n",
            "Epoch 60/60\n",
            "10/10 [==============================] - ETA: 0s - loss: 0.4168 - acc: 0.8438\n",
            "Epoch 00060: val_acc did not improve from 0.87500\n",
            "10/10 [==============================] - 7s 707ms/step - loss: 0.4168 - acc: 0.8438 - val_loss: 0.6681 - val_acc: 0.8250\n",
            "plotando gráficos...\n"
          ],
          "name": "stdout"
        },
        {
          "output_type": "display_data",
          "data": {
            "image/png": "[encoded data removed]",
            "text/plain": [
              "<Figure size 432x288 with 1 Axes>"
            ]
          },
          "metadata": {
            "tags": [],
            "needs_background": "light"
          }
        },
        {
          "output_type": "display_data",
          "data": {
            "image/png": "[encoded data removed]",
            "text/plain": [
              "<Figure size 432x288 with 1 Axes>"
            ]
          },
          "metadata": {
            "tags": [],
            "needs_background": "light"
          }
        },
        {
          "output_type": "stream",
          "text": [
            "Testando Modelo\n",
            "Plotando matriz de confusão\n",
            "0-covid19 \n",
            "1-Pneumonia \n",
            "2-Saudavel\n",
            "Acurácia: 0.8250\n",
            "Sensitividade: 1.0000\n",
            "Especificidade: 0.7500\n"
          ],
          "name": "stdout"
        },
        {
          "output_type": "display_data",
          "data": {
            "image/png": "[encoded data removed]",
            "text/plain": [
              "<Figure size 360x360 with 1 Axes>"
            ]
          },
          "metadata": {
            "tags": [],
            "needs_background": "light"
          }
        },
        {
          "output_type": "stream",
          "text": [
            "Deseja Salvar modelo? s/n\n"
          ],
          "name": "stdout"
        }
      ]
    }
  ]
}